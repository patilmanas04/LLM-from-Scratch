{
 "cells": [
  {
   "cell_type": "code",
   "execution_count": 2,
   "id": "e0c17d53-4ef3-4cec-950a-398b7104a852",
   "metadata": {},
   "outputs": [],
   "source": [
    "# This tokenzier is used by OpenAI's Models along wiht GPT-2 and GPT-3 models \n",
    "import tiktoken"
   ]
  },
  {
   "cell_type": "markdown",
   "id": "ffeae404-4638-4dd6-8cba-72da69138d5f",
   "metadata": {},
   "source": [
    "# Initializing the tokenizer"
   ]
  },
  {
   "cell_type": "code",
   "execution_count": 4,
   "id": "04415890-6059-452f-88e1-7fcf3c6a5d67",
   "metadata": {},
   "outputs": [],
   "source": [
    "tokenizer = tiktoken.get_encoding(\"gpt2\")"
   ]
  },
  {
   "cell_type": "markdown",
   "id": "87747759-a382-4809-8357-8c30f0b85a50",
   "metadata": {},
   "source": [
    "## Converting a string into ids"
   ]
  },
  {
   "cell_type": "code",
   "execution_count": 7,
   "id": "da6be5d5-ae6a-44ad-a3f0-94f814325f25",
   "metadata": {},
   "outputs": [
    {
     "name": "stdout",
     "output_type": "stream",
     "text": [
      "[15496, 11, 644, 466, 345, 588, 30, 19443, 393, 8887, 13, 220, 50256, 554, 262, 4252, 18250, 8812, 2114, 286, 617, 20035, 27271, 13]\n"
     ]
    }
   ],
   "source": [
    "text = (\"Hello, what do you like? Coffee or tea. <|endoftext|> In the sunlit terraces of someUnknownPlace.\")\n",
    "\n",
    "integer_ids = tokenizer.encode(text, allowed_special={\"<|endoftext|>\"})\n",
    "print(integer_ids)"
   ]
  },
  {
   "cell_type": "markdown",
   "id": "5738f385-39c0-4feb-a80e-10df1a72331e",
   "metadata": {},
   "source": [
    "## Converting ids back to the string"
   ]
  },
  {
   "cell_type": "code",
   "execution_count": 8,
   "id": "c4299b9b-762c-4124-af28-3bb01fa3c615",
   "metadata": {},
   "outputs": [
    {
     "name": "stdout",
     "output_type": "stream",
     "text": [
      "Hello, what do you like? Coffee or tea. <|endoftext|> In the sunlit terraces of someUnknownPlace.\n"
     ]
    }
   ],
   "source": [
    "string = tokenizer.decode(integer_ids)\n",
    "print(string)"
   ]
  },
  {
   "cell_type": "markdown",
   "id": "6be1bfd9-f9cc-4334-b286-7ac3597026ed",
   "metadata": {},
   "source": [
    "## Encoding and Decoding with some completely random text"
   ]
  },
  {
   "cell_type": "code",
   "execution_count": 11,
   "id": "1842f30f-7dd9-4c07-87e5-32b9a12b84c3",
   "metadata": {},
   "outputs": [
    {
     "name": "stdout",
     "output_type": "stream",
     "text": [
      "Encoded ids: [10206, 82, 971, 8310, 12337, 288, 2093, 35209, 258, 84]\n",
      "Decoded string: AKsalkfrhh daskldeheu\n"
     ]
    }
   ],
   "source": [
    "text = \"AKsalkfrhh daskldeheu\"\n",
    "\n",
    "integer_ids = tokenizer.encode(text)\n",
    "print(\"Encoded ids:\", integer_ids)\n",
    "\n",
    "string = tokenizer.decode(integer_ids)\n",
    "print(\"Decoded string:\", string)"
   ]
  }
 ],
 "metadata": {
  "kernelspec": {
   "display_name": "Python 3 (ipykernel)",
   "language": "python",
   "name": "python3"
  },
  "language_info": {
   "codemirror_mode": {
    "name": "ipython",
    "version": 3
   },
   "file_extension": ".py",
   "mimetype": "text/x-python",
   "name": "python",
   "nbconvert_exporter": "python",
   "pygments_lexer": "ipython3",
   "version": "3.13.5"
  }
 },
 "nbformat": 4,
 "nbformat_minor": 5
}
