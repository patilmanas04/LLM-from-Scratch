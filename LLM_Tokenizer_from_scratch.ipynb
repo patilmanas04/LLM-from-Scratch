{
 "cells": [
  {
   "cell_type": "markdown",
   "id": "dc3de39a-7555-4e9c-a18e-9feccaf84b73",
   "metadata": {},
   "source": [
    "# Step 1: Creating Tokens"
   ]
  },
  {
   "cell_type": "code",
   "execution_count": 12,
   "id": "8a55a5ad-4c77-4ee0-9379-3fed14c65d99",
   "metadata": {},
   "outputs": [
    {
     "name": "stdout",
     "output_type": "stream",
     "text": [
      "The number of characters in the book are: 20395\n",
      "I had always thought Jack Gisburn rather a cheap genius--though a good fellow enough--so it was no \n"
     ]
    }
   ],
   "source": [
    "with open(\"the-verdict.txt\", \"r\") as book:\n",
    "    raw_text = book.read()\n",
    "\n",
    "print(\"The number of characters in the book are:\", len(raw_text))\n",
    "print(raw_text[:99])"
   ]
  },
  {
   "cell_type": "code",
   "execution_count": 14,
   "id": "320d23c0-dee0-4de6-8f4a-9702ad700506",
   "metadata": {},
   "outputs": [
    {
     "name": "stdout",
     "output_type": "stream",
     "text": [
      "['Hello', ' ', 'world!', ' ', 'This', ' ', 'is', ' ', 'a', ' ', 'test.']\n"
     ]
    }
   ],
   "source": [
    "import re\n",
    "\n",
    "text = \"Hello world! This is a test.\"\n",
    "result = re.split(r'(\\s)', text)\n",
    "\n",
    "print(result)"
   ]
  },
  {
   "cell_type": "code",
   "execution_count": 15,
   "id": "93dc8a7e-8524-4d4d-ae10-bb4f097e4318",
   "metadata": {},
   "outputs": [
    {
     "name": "stdout",
     "output_type": "stream",
     "text": [
      "['Hello', 'world', '!', 'This', 'is', 'sample', '--', 'text', 'for', 'testing', '.']\n"
     ]
    }
   ],
   "source": [
    "text = \"Hello world! This is sample--text for testing.\"\n",
    "result = re.split(r\"([,.:;?_!\\\"()\\']|--|\\s)\", text)\n",
    "\n",
    "# Remove the whitespaces from the list\n",
    "result = [item.strip() for item in result if item.strip()]\n",
    "print(result)"
   ]
  },
  {
   "cell_type": "markdown",
   "id": "76145b53-b7af-42ed-aaa7-305a95d7a373",
   "metadata": {},
   "source": [
    "## Converting the raw text of the book into tokens"
   ]
  },
  {
   "cell_type": "code",
   "execution_count": 16,
   "id": "d07581ff-cab6-4aeb-a918-cf4d91e1a2fe",
   "metadata": {},
   "outputs": [
    {
     "name": "stdout",
     "output_type": "stream",
     "text": [
      "['I', 'had', 'always', 'thought', 'Jack', 'Gisburn', 'rather', 'a', 'cheap', 'genius', '--', 'though', 'a', 'good', 'fellow', 'enough', '--', 'so', 'it', 'was', 'no', 'great', 'surprise', 'to', 'me', 'to', 'hear', 'that', ',', 'in']\n"
     ]
    }
   ],
   "source": [
    "preprocessed = result = re.split(r\"([,.:;?_!\\\"()\\']|--|\\s)\", raw_text)\n",
    "preprocessed = [item.strip() for item in preprocessed if item.strip()]\n",
    "print(preprocessed[:30])"
   ]
  },
  {
   "cell_type": "code",
   "execution_count": 17,
   "id": "81fd82e3-798a-4140-9ce5-91ec1f567554",
   "metadata": {},
   "outputs": [
    {
     "name": "stdout",
     "output_type": "stream",
     "text": [
      "The lenght of tokens is: 4663\n"
     ]
    }
   ],
   "source": [
    "print(\"The lenght of tokens is:\", len(preprocessed))"
   ]
  },
  {
   "cell_type": "markdown",
   "id": "f6900aba-2605-4786-bbf5-faef8fcfd847",
   "metadata": {},
   "source": [
    "# Step 2: Creating Token ID's"
   ]
  },
  {
   "cell_type": "code",
   "execution_count": 19,
   "id": "f1d5985e-22cd-41af-83ae-1ea61cdd425d",
   "metadata": {},
   "outputs": [
    {
     "name": "stdout",
     "output_type": "stream",
     "text": [
      "The size of the vocabulary is: 1145\n"
     ]
    }
   ],
   "source": [
    "all_words = sorted(set(preprocessed))\n",
    "vocab_size = len(all_words)\n",
    "print(\"The size of the vocabulary is:\", vocab_size)"
   ]
  },
  {
   "cell_type": "code",
   "execution_count": 22,
   "id": "377875ea-b889-4696-8f0f-3888089e7a1e",
   "metadata": {},
   "outputs": [
    {
     "name": "stdout",
     "output_type": "stream",
     "text": [
      "['!', '\"', \"'\", '(', ')', ',', '--', '.', ':', ';', '?', 'A', 'AM', 'Ah', 'Among']\n"
     ]
    }
   ],
   "source": [
    "print(all_words[:15])"
   ]
  },
  {
   "cell_type": "code",
   "execution_count": 25,
   "id": "5d8f2b32-bcc1-4851-af53-da19bcb48d70",
   "metadata": {},
   "outputs": [],
   "source": [
    "vocabulary = {token:integer for integer, token in enumerate(all_words)}"
   ]
  },
  {
   "cell_type": "code",
   "execution_count": 27,
   "id": "18184026-cb5d-44c3-97bb-c2998070038b",
   "metadata": {},
   "outputs": [
    {
     "name": "stdout",
     "output_type": "stream",
     "text": [
      "('!', 0)\n",
      "('\"', 1)\n",
      "(\"'\", 2)\n",
      "('(', 3)\n",
      "(')', 4)\n",
      "(',', 5)\n",
      "('--', 6)\n",
      "('.', 7)\n",
      "(':', 8)\n",
      "(';', 9)\n",
      "('?', 10)\n",
      "('A', 11)\n",
      "('AM', 12)\n",
      "('Ah', 13)\n",
      "('Among', 14)\n",
      "('And', 15)\n",
      "('Are', 16)\n",
      "('Arrt', 17)\n",
      "('As', 18)\n",
      "('At', 19)\n",
      "('Be', 20)\n",
      "('Begin', 21)\n",
      "('Burlington', 22)\n",
      "('But', 23)\n",
      "('By', 24)\n",
      "('Carlo', 25)\n",
      "('Chicago', 26)\n",
      "('Claude', 27)\n",
      "('Come', 28)\n",
      "('Croft', 29)\n",
      "('Destroyed', 30)\n",
      "('Devonshire', 31)\n",
      "('Don', 32)\n",
      "('Dubarry', 33)\n",
      "('Emperors', 34)\n",
      "('End', 35)\n",
      "('FELT', 36)\n",
      "('Florence', 37)\n",
      "('For', 38)\n",
      "('Gallery', 39)\n",
      "('Gideon', 40)\n",
      "('Gisburn', 41)\n",
      "('Gisburns', 42)\n",
      "('Grafton', 43)\n",
      "('Greek', 44)\n",
      "('Grindle', 45)\n",
      "('Grindles', 46)\n",
      "('HAD', 47)\n",
      "('HAS', 48)\n",
      "('HAVE', 49)\n",
      "('Had', 50)\n"
     ]
    }
   ],
   "source": [
    "for i, item in enumerate(vocabulary.items()):\n",
    "    print(item)\n",
    "    if i>=50:\n",
    "        break"
   ]
  },
  {
   "cell_type": "markdown",
   "id": "55372efa-5bf3-42ef-97bd-1e7da9033c97",
   "metadata": {},
   "source": [
    "# Implementing the SimpleTokenizerV1 class"
   ]
  },
  {
   "cell_type": "code",
   "execution_count": 42,
   "id": "00ad6ba9-2846-408b-ab77-b9dfa614e33f",
   "metadata": {},
   "outputs": [],
   "source": [
    "class SimpleTokenizerV1:\n",
    "    def __init__(self, vocabulary):\n",
    "        self.str_to_int = vocabulary\n",
    "        self.int_to_str = {index:string for string, index in vocabulary.items()}\n",
    "\n",
    "    def encode(self, text):\n",
    "        preprocessed = re.split(r\"([,.:;?_!\\\"()\\']|--|\\s)\", text)\n",
    "        preprocessed = [item.strip() for item in preprocessed if item.strip()]\n",
    "\n",
    "        ids = [self.str_to_int[string] for string in preprocessed]\n",
    "\n",
    "        return ids\n",
    "\n",
    "    def decode(self, ids):\n",
    "        text = \" \".join([self.int_to_str[i] for i in ids])\n",
    "        text = re.sub(r'\\s+([,.?!\"()\\'])', r'\\1', text)\n",
    "        return text"
   ]
  },
  {
   "cell_type": "code",
   "execution_count": 43,
   "id": "a291c9f4-0314-461f-bb85-7715f54ad40c",
   "metadata": {},
   "outputs": [
    {
     "name": "stdout",
     "output_type": "stream",
     "text": [
      "[1, 105, 552, 737, 563, 510, 1, 6, 1002, 1092, 1104, 1003, 1127, 255, 600, 7, 58, 257, 549, 74, 7, 40, 112, 6, 563, 616, 26, 912, 6, 340]\n"
     ]
    }
   ],
   "source": [
    "tokenizer = SimpleTokenizerV1(vocabulary)\n",
    "\n",
    "text = \"\"\"\"The height of his glory\"--that was what the women called it.\n",
    "            I can hear Mrs. Gideon Thwing--his last Chicago sitter--deploring\"\"\"\n",
    "\n",
    "# Encoding the text\n",
    "ids = tokenizer.encode(text)\n",
    "print(ids)"
   ]
  },
  {
   "cell_type": "code",
   "execution_count": 44,
   "id": "500e0ed3-e3d1-41bc-a8df-2db2205b8013",
   "metadata": {},
   "outputs": [
    {
     "name": "stdout",
     "output_type": "stream",
     "text": [
      "\" The height of his glory\" -- that was what the women called it. I can hear Mrs. Gideon Thwing -- his last Chicago sitter -- deploring\n"
     ]
    }
   ],
   "source": [
    "# Decoding the text\n",
    "print(tokenizer.decode(ids))"
   ]
  },
  {
   "cell_type": "markdown",
   "id": "4c6907b9-3c2a-453a-8407-6221795cef05",
   "metadata": {},
   "source": [
    "# Implementing The Special Context Tokens to handle the tokens which are not present in the vocabulary"
   ]
  },
  {
   "cell_type": "code",
   "execution_count": 59,
   "id": "447f1c5f-290e-4c7c-85fa-fbe28d160d8a",
   "metadata": {},
   "outputs": [
    {
     "data": {
      "text/plain": [
       "1147"
      ]
     },
     "execution_count": 59,
     "metadata": {},
     "output_type": "execute_result"
    }
   ],
   "source": [
    "all_tokens = sorted(list(set(preprocessed)))\n",
    "all_tokens.extend([\"<|unk|>\", \"<|endoftext|>\"])\n",
    "\n",
    "vocabulary = {token:integer for integer, token in enumerate(all_tokens)}\n",
    "\n",
    "len(vocabulary)"
   ]
  },
  {
   "cell_type": "code",
   "execution_count": 60,
   "id": "2dc495c3-1449-4149-864e-72a0c513a196",
   "metadata": {},
   "outputs": [
    {
     "name": "stdout",
     "output_type": "stream",
     "text": [
      "('younger', 1142)\n",
      "('your', 1143)\n",
      "('yourself', 1144)\n",
      "('<|unk|>', 1145)\n",
      "('<|endoftext|>', 1146)\n"
     ]
    }
   ],
   "source": [
    "for i, item in enumerate(list(vocabulary.items())[-5:]):\n",
    "    print(item)"
   ]
  },
  {
   "cell_type": "code",
   "execution_count": 87,
   "id": "2b9be749-99b7-473c-bba2-6b81a7457d87",
   "metadata": {},
   "outputs": [],
   "source": [
    "class SimpleTokenizerV2:\n",
    "    def __init__(self, vocabulary):\n",
    "        self.str_to_int = vocabulary\n",
    "        self.int_to_str = {index:string for string, index in vocabulary.items()}\n",
    "\n",
    "    def encode(self, text):\n",
    "        preprocessed = re.split(r\"([,.:;?_!\\\"()\\']|--|\\s)\", text)\n",
    "        preprocessed = [item.strip() for item in preprocessed if item.strip()]\n",
    "\n",
    "        preprocessed = [\n",
    "            token if token in self.str_to_int \n",
    "            else \"<|unk|>\" for token in preprocessed\n",
    "        ]\n",
    "\n",
    "        ids = [self.str_to_int[token] for token in preprocessed]\n",
    "\n",
    "        return ids\n",
    "\n",
    "    def decode(self, ids):\n",
    "        text = \" \".join([self.int_to_str[i] for i in ids])\n",
    "        text = re.sub(r'\\s+([,.?!\"()\\'])', r'\\1', text)\n",
    "        return text"
   ]
  },
  {
   "cell_type": "code",
   "execution_count": 88,
   "id": "42d8c500-e93f-4db7-80f9-0dc1664733bd",
   "metadata": {},
   "outputs": [
    {
     "name": "stdout",
     "output_type": "stream",
     "text": [
      "Hello, do you like tea? <|endoftext|> In the sunlit terraces of the palace.\n"
     ]
    }
   ],
   "source": [
    "tokenizer = SimpleTokenizerV2(vocabulary)\n",
    "\n",
    "text1 = \"Hello, do you like tea?\"\n",
    "text2 = \"In the sunlit terraces of the palace.\"\n",
    "\n",
    "text = \" <|endoftext|> \".join([text1, text2])\n",
    "\n",
    "print(text)"
   ]
  },
  {
   "cell_type": "code",
   "execution_count": 89,
   "id": "7ee8b69a-6a4f-48cc-9154-049ace00d996",
   "metadata": {},
   "outputs": [
    {
     "name": "stdout",
     "output_type": "stream",
     "text": [
      "[1145, 5, 369, 1141, 642, 990, 10, 1146, 60, 1003, 971, 999, 737, 1003, 1145, 7]\n"
     ]
    }
   ],
   "source": [
    "# Encoding this text\n",
    "ids = tokenizer.encode(text)\n",
    "print(ids)"
   ]
  },
  {
   "cell_type": "code",
   "execution_count": 90,
   "id": "c0165ca4-eadb-4165-8428-b04aad3cdfde",
   "metadata": {},
   "outputs": [
    {
     "name": "stdout",
     "output_type": "stream",
     "text": [
      "<|unk|>, do you like tea? <|endoftext|> In the sunlit terraces of the <|unk|>.\n"
     ]
    }
   ],
   "source": [
    "# Decoding the ids\n",
    "print(tokenizer.decode(ids))"
   ]
  }
 ],
 "metadata": {
  "kernelspec": {
   "display_name": "Python 3 (ipykernel)",
   "language": "python",
   "name": "python3"
  },
  "language_info": {
   "codemirror_mode": {
    "name": "ipython",
    "version": 3
   },
   "file_extension": ".py",
   "mimetype": "text/x-python",
   "name": "python",
   "nbconvert_exporter": "python",
   "pygments_lexer": "ipython3",
   "version": "3.13.5"
  }
 },
 "nbformat": 4,
 "nbformat_minor": 5
}
