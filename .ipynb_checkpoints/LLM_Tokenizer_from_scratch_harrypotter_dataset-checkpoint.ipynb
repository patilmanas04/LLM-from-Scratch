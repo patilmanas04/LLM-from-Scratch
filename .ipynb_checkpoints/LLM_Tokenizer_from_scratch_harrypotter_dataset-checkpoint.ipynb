{
 "cells": [
  {
   "cell_type": "code",
   "execution_count": 3,
   "id": "4b413891-ffcc-40bf-b35e-a2908c2aebac",
   "metadata": {},
   "outputs": [
    {
     "name": "stdout",
     "output_type": "stream",
     "text": [
      "Total number of characters in the book: 442768\n",
      "Harry Potter and the Sorcerer's Stone \n",
      "\n",
      "CHAPTER ONE \n",
      "\n",
      "THE BOY WHO LIVED \n",
      "\n",
      "Mr. and Mrs. Dursley, of \n"
     ]
    }
   ],
   "source": [
    "with open(\"harrypotter.txt\", \"r\") as harry_potter_book:\n",
    "    book_content = harry_potter_book.read()\n",
    "\n",
    "print(\"Total number of characters in the book:\", len(book_content))\n",
    "print(book_content[:99])"
   ]
  },
  {
   "cell_type": "code",
   "execution_count": 9,
   "id": "54178ced-b041-4778-923e-a3581aaeecbc",
   "metadata": {},
   "outputs": [
    {
     "name": "stdout",
     "output_type": "stream",
     "text": [
      "['Harry', 'Potter', 'and', 'the', 'Sorcerer', \"'\", 's', 'Stone', 'CHAPTER', 'ONE', 'THE', 'BOY', 'WHO', 'LIVED', 'Mr', '.', 'and', 'Mrs', '.', 'Dursley']\n"
     ]
    }
   ],
   "source": [
    "import re\n",
    "\n",
    "preprocessed = re.findall(r'\\w+|--|[^\\w\\s]', book_content)\n",
    "print(preprocessed[:20])"
   ]
  },
  {
   "cell_type": "code",
   "execution_count": 10,
   "id": "f5815560-6e33-4f20-9402-f6d36443d2de",
   "metadata": {},
   "outputs": [
    {
     "data": {
      "text/plain": [
       "103062"
      ]
     },
     "execution_count": 10,
     "metadata": {},
     "output_type": "execute_result"
    }
   ],
   "source": [
    "len(preprocessed)"
   ]
  },
  {
   "cell_type": "code",
   "execution_count": 16,
   "id": "03e38759-0912-41c0-ae5b-9fd6771e6f32",
   "metadata": {},
   "outputs": [
    {
     "name": "stdout",
     "output_type": "stream",
     "text": [
      "6674\n",
      "['œ', '“', '€', '<|unk|>', '<|endoftext|>']\n"
     ]
    }
   ],
   "source": [
    "all_tokens = sorted(list(set(preprocessed)))\n",
    "all_tokens.extend([\"<|unk|>\", \"<|endoftext|>\"])\n",
    "print(len(all_tokens))\n",
    "print(all_tokens[-5:])"
   ]
  },
  {
   "cell_type": "code",
   "execution_count": 17,
   "id": "34201643-a922-4096-9501-1afb1a1e4b46",
   "metadata": {},
   "outputs": [],
   "source": [
    "vocabulary = {token:integer for integer, token in enumerate(all_tokens)}"
   ]
  },
  {
   "cell_type": "code",
   "execution_count": 18,
   "id": "8f6c6677-48a5-45e1-ae24-a133b0edcb02",
   "metadata": {},
   "outputs": [
    {
     "name": "stdout",
     "output_type": "stream",
     "text": [
      "('!', 0)\n",
      "('\"', 1)\n",
      "(\"'\", 2)\n",
      "('(', 3)\n",
      "(')', 4)\n",
      "('*', 5)\n",
      "(',', 6)\n",
      "('-', 7)\n",
      "('--', 8)\n",
      "('.', 9)\n",
      "('0', 10)\n",
      "('1', 11)\n",
      "('1473', 12)\n",
      "('1637', 13)\n",
      "('17', 14)\n",
      "('1709', 15)\n",
      "('1945', 16)\n",
      "('2', 17)\n",
      "('3', 18)\n",
      "('31', 19)\n",
      "('382', 20)\n",
      "('4', 21)\n",
      "('90', 22)\n",
      "(':', 23)\n",
      "(';', 24)\n",
      "('?', 25)\n",
      "('A', 26)\n",
      "('AAAAAAAAAARGH', 27)\n",
      "('AAAARGH', 28)\n",
      "('ALBUS', 29)\n",
      "('ALL', 30)\n",
      "('ALLEY', 31)\n",
      "('ALLOWED', 32)\n",
      "('AM', 33)\n",
      "('AND', 34)\n",
      "('ANYTHING', 35)\n",
      "('ARE', 36)\n",
      "('AT', 37)\n",
      "('Aaah', 38)\n",
      "('Aargh', 39)\n",
      "('Abbott', 40)\n",
      "('Abou', 41)\n",
      "('About', 42)\n",
      "('Absolutely', 43)\n",
      "('According', 44)\n",
      "('Adalbert', 45)\n",
      "('Add', 46)\n",
      "('Adrian', 47)\n",
      "('Africa', 48)\n",
      "('African', 49)\n",
      "('After', 50)\n"
     ]
    }
   ],
   "source": [
    "for index, item in enumerate(vocabulary.items()):\n",
    "    print(item)\n",
    "    if index>=50:\n",
    "        break"
   ]
  },
  {
   "cell_type": "code",
   "execution_count": 49,
   "id": "b887c477-b955-441e-8efc-2065449a507b",
   "metadata": {},
   "outputs": [],
   "source": [
    "# This is also capable of handling special context tokens\n",
    "class SimpleTokenizerV2:\n",
    "    def __init__(self, vocabulary):\n",
    "        self.str_to_int = vocabulary\n",
    "        self.int_to_str = {index:token for token, index in vocabulary.items()}\n",
    "\n",
    "    def encode(self, text):\n",
    "        tokens = re.findall(r'\\w+|--|[^\\w\\s]', text)\n",
    "        tokens = [token if token in self.str_to_int else \"<|unk|>\" for token in tokens]\n",
    "        ids = [self.str_to_int[token] for token in tokens]\n",
    "        return ids\n",
    "\n",
    "    def decode(self, ids):\n",
    "        text = \" \".join([self.int_to_str[i] for i in ids])\n",
    "        text = re.sub(r'\\s+([.,;!?])', r'\\1', text)\n",
    "        text = re.sub(r'\\s+--\\s+', r'--', text)\n",
    "        text = re.sub(r\"\\s*'\\s*\", \"'\", text)\n",
    "        return text"
   ]
  },
  {
   "cell_type": "code",
   "execution_count": 50,
   "id": "9ad7acf3-f556-4cd4-a955-be4904e135c2",
   "metadata": {},
   "outputs": [],
   "source": [
    "text1 = \"Harry Potter and the Sorcerer's Stone.\"\n",
    "text2 = \"Mr. Dursley lived at number four, Privet Drive -- the end.\""
   ]
  },
  {
   "cell_type": "code",
   "execution_count": 51,
   "id": "0751e53f-3763-4b3d-86e9-2624cf498d58",
   "metadata": {},
   "outputs": [
    {
     "name": "stdout",
     "output_type": "stream",
     "text": [
      "Id's: [572, 968, 1528, 5997, 1151, 2, 5068, 1177, 9]\n",
      "Text: Harry Potter and the Sorcerer's Stone.\n"
     ]
    }
   ],
   "source": [
    "tokenzier = SimpleTokenizerV2(vocabulary)\n",
    "\n",
    "ids = tokenzier.encode(text1)\n",
    "print(\"Id's:\", ids)\n",
    "\n",
    "text = tokenzier.decode(ids)\n",
    "print(\"Text:\", text)"
   ]
  },
  {
   "cell_type": "code",
   "execution_count": 52,
   "id": "c12979d6-7640-4a52-b7c7-dacc46c38125",
   "metadata": {},
   "outputs": [
    {
     "name": "stdout",
     "output_type": "stream",
     "text": [
      "Id's: [812, 9, 351, 3979, 1612, 4373, 3162, 6, 978, 339, 8, 5997, 2830, 9]\n",
      "Text: Mr. Dursley lived at number four, Privet Drive--the end.\n"
     ]
    }
   ],
   "source": [
    "ids = tokenzier.encode(text2)\n",
    "print(\"Id's:\", ids)\n",
    "\n",
    "text = tokenzier.decode(ids)\n",
    "print(\"Text:\", text)"
   ]
  }
 ],
 "metadata": {
  "kernelspec": {
   "display_name": "Python 3 (ipykernel)",
   "language": "python",
   "name": "python3"
  },
  "language_info": {
   "codemirror_mode": {
    "name": "ipython",
    "version": 3
   },
   "file_extension": ".py",
   "mimetype": "text/x-python",
   "name": "python",
   "nbconvert_exporter": "python",
   "pygments_lexer": "ipython3",
   "version": "3.13.5"
  }
 },
 "nbformat": 4,
 "nbformat_minor": 5
}
