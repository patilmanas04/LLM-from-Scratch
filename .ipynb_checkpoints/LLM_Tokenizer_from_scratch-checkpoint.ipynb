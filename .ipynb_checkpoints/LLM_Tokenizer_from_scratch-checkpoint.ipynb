{
 "cells": [
  {
   "cell_type": "code",
   "execution_count": 7,
   "id": "30bf4322-75ff-4de0-972f-25a5d829280a",
   "metadata": {},
   "outputs": [
    {
     "name": "stdout",
     "output_type": "stream",
     "text": [
      "Length of characters of the book: 20758\n",
      "THE VERDICT\n",
      "June 1908\n",
      "\n",
      "I had always thought Jack Gisburn rather a cheap genius--though a\n",
      "\n",
      "good fell\n"
     ]
    }
   ],
   "source": [
    "with open(\"the-verdict.txt\", \"r\") as book:\n",
    "    raw_text = book.read()\n",
    "\n",
    "print(\"Length of characters of the book:\", len(raw_text))\n",
    "print(content[:99])"
   ]
  },
  {
   "cell_type": "code",
   "execution_count": null,
   "id": "8a55a5ad-4c77-4ee0-9379-3fed14c65d99",
   "metadata": {},
   "outputs": [],
   "source": []
  }
 ],
 "metadata": {
  "kernelspec": {
   "display_name": "Python 3 (ipykernel)",
   "language": "python",
   "name": "python3"
  },
  "language_info": {
   "codemirror_mode": {
    "name": "ipython",
    "version": 3
   },
   "file_extension": ".py",
   "mimetype": "text/x-python",
   "name": "python",
   "nbconvert_exporter": "python",
   "pygments_lexer": "ipython3",
   "version": "3.13.5"
  }
 },
 "nbformat": 4,
 "nbformat_minor": 5
}
